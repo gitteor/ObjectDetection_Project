{
  "nbformat": 4,
  "nbformat_minor": 0,
  "metadata": {
    "colab": {
      "name": "AIB_Project4.ipynb",
      "provenance": [],
      "collapsed_sections": []
    },
    "kernelspec": {
      "name": "python3",
      "display_name": "Python 3"
    },
    "language_info": {
      "name": "python"
    }
  },
  "cells": [
    {
      "cell_type": "markdown",
      "metadata": {
        "id": "t7Mc8egyx2HS"
      },
      "source": [
        "##**발표 주제 : 딥러닝을 활용한 캡슐내시경 판별모델 개발**"
      ]
    },
    {
      "cell_type": "markdown",
      "metadata": {
        "id": "5DyBlJbkxOxc"
      },
      "source": [
        "<img src=\"https://ifh.cc/g/Vkd7Rw.png\" width = 600/>"
      ]
    },
    {
      "cell_type": "markdown",
      "metadata": {
        "id": "PTdjDbkgnYVH"
      },
      "source": [
        "---"
      ]
    },
    {
      "cell_type": "markdown",
      "metadata": {
        "id": "RCryln7kUq2r"
      },
      "source": [
        "#**1. 관심 데이터 설정**\n",
        "\n",
        "Dataset : 내시경 사진 데이터 (https://datasets.simula.no/kvasir/)\n"
      ]
    },
    {
      "cell_type": "markdown",
      "metadata": {
        "id": "bCJDL3uDtHko"
      },
      "source": [
        "###**캡슐 내시경의 특징**\n",
        "- 일상 생활을 하면서 간편하게 진행할 수 있다.\n",
        "- 소장 등 기존 내시경이 촬영하기 힘든 부분도 검사가 가능하다.\n",
        "- 약 10시간, **5만장 내외의 사진**을 촬영하게 되고, 이를 소화기내과 의사가 판독해야 한다.\n",
        "- 여러가지 한계와 100만원 정도의 비용으로 아직까지 널리 보급되지 못하고 있다."
      ]
    },
    {
      "cell_type": "markdown",
      "metadata": {
        "id": "SUlpSIVonT3l"
      },
      "source": [
        "---"
      ]
    },
    {
      "cell_type": "markdown",
      "metadata": {
        "id": "dPM5MU_DUrxO"
      },
      "source": [
        "#**2. 데이터 선정 이유**"
      ]
    },
    {
      "cell_type": "markdown",
      "metadata": {
        "id": "qsF3oB6rtMbC"
      },
      "source": [
        "###**1. 해당 프로젝트 관련 분야**\n",
        "- 의료인공지능 기업 : 주목받는 인공지능 스타트업 중 의료분야 기업이 많은 수를 차지하고 있다. (JLK, VUNO, Lunit 등) \n",
        "- 의료기기 제조업체 : 기존의 의료기기 업체에서도 인공지능의 도입을 추진하고 있다.\n",
        "- 대형 병원 : 대형 병원에서도 환자 데이터를 활용해 인공지능 기업 또는 연구실과 손을 잡고 있다."
      ]
    },
    {
      "cell_type": "markdown",
      "metadata": {
        "id": "EqXZ6vJ9k2Gr"
      },
      "source": [
        "###**2. 캡슐 내시경에 딥러닝을 도입해야 하는 이유**\n",
        "- 빠른 사진 분류로 의료진의 업무 효율을 높일 수 있다.\n",
        "- 소화기내과 의사 주 71.5시간 업무.. 89.6%가 근골격계 통증, 68.9%가 우울과 불안 증상 경험\n",
        "- 내시경 해상도 및 숙련도에 따라 용종의 미탐지율이 20%정도 나올 수 있다.\n",
        "- 실시간으로 사진 정보를 분석할 수 있다.\n",
        "- 캡슐 내시경 검사시 매번 5만여장의 데이터셋이 수집된다."
      ]
    },
    {
      "cell_type": "markdown",
      "metadata": {
        "id": "hh8Mugaznbt3"
      },
      "source": [
        "---"
      ]
    },
    {
      "cell_type": "markdown",
      "metadata": {
        "id": "pZkU51MKUr2f"
      },
      "source": [
        "#**3. 데이터를 이용한 가설** : 모델이 가져올 변화\n"
      ]
    },
    {
      "cell_type": "markdown",
      "metadata": {
        "id": "bLSWVNKb0BfT"
      },
      "source": [
        "###**1. 딥러닝이 내시경 사진 분류를 할수 있을 것이다** : 능동적 캡슐 내시경\n",
        "\n",
        "캡슐 내시경은 장운동에 의해 수동적으로 움직이지만, 판별 모델이 탑재가 된다면 마치 의사처럼 이상 발견시 촬영을 자세히 하거나 약품 투입 등의 능동적인 행동이 가능해질 것이다.\n",
        "\n",
        "전문의의 진단에 앞서 선제적 검사로서 활용이 가능하며, 의료인의 노동력 감소로 비용이 절감되면 시장이 확대되고 의료시설이 부족한 국가에서 활용 될 수 있을 것이다."
      ]
    },
    {
      "cell_type": "markdown",
      "metadata": {
        "id": "rPO04YCAk7Na"
      },
      "source": [
        "###**2. 딥러닝 모델이 Polyp Detection을 할 수 있을 것이다.**\n",
        "\n",
        "Polyp Detection 모델을 통해"
      ]
    },
    {
      "cell_type": "markdown",
      "metadata": {
        "id": "ypDorIztndI5"
      },
      "source": [
        "---"
      ]
    },
    {
      "cell_type": "markdown",
      "metadata": {
        "id": "orp6PEgajIOP"
      },
      "source": [
        "#**4. 데이터 전처리**"
      ]
    },
    {
      "cell_type": "markdown",
      "metadata": {
        "id": "x6y_i75u0sWb"
      },
      "source": [
        "###**1. 좌측 하단 녹색 창**\n",
        "\n",
        "이미지 좌측 하단 패턴 일정하게 만들까 생각을 했지만, 앞으로 테스트에 나쁜 영향을 줄 것 같아 그대로 두었다."
      ]
    },
    {
      "cell_type": "markdown",
      "metadata": {
        "id": "jPWAJ-aem4UQ"
      },
      "source": [
        "###**2. Image Augmentation**\n",
        "\n",
        "내시경 특성상 이미지를 회전시켜 학습할 경우 효과가 좋다고 판단되었으나, 제한된 시간으로 차후에 진행하기로 결정하였다. "
      ]
    },
    {
      "cell_type": "markdown",
      "metadata": {
        "id": "otbAC30Lm63l"
      },
      "source": [
        "###**3. Labeling**\n",
        "\n",
        "Polyp에 대한 Object Detection을 위해 LabelIMG를 활용하여 레이블링 하였다."
      ]
    },
    {
      "cell_type": "markdown",
      "metadata": {
        "id": "69QEXzGoneiU"
      },
      "source": [
        "---"
      ]
    },
    {
      "cell_type": "markdown",
      "metadata": {
        "id": "pFbkITvrztQO"
      },
      "source": [
        "#**5. 딥러닝 적용**"
      ]
    },
    {
      "cell_type": "markdown",
      "metadata": {
        "id": "sA94reHC0R3O"
      },
      "source": [
        "##**1. Simple Image Classification**\n",
        "\n",
        "6개 클래스의 이미지를 분류하는 모델입니다."
      ]
    },
    {
      "cell_type": "markdown",
      "metadata": {
        "id": "kAQa_msj0t8y"
      },
      "source": [
        "<img src=\"https://ifh.cc/g/HrOPpt.jpg\" width = 700/>"
      ]
    },
    {
      "cell_type": "code",
      "metadata": {
        "colab": {
          "base_uri": "https://localhost:8080/"
        },
        "id": "Q90S3ddWzkwD",
        "outputId": "d9ab4d7a-9da1-42bf-d8b9-9203d940b058"
      },
      "source": [
        "from google.colab import drive\n",
        "drive.mount('/content/drive')"
      ],
      "execution_count": null,
      "outputs": [
        {
          "output_type": "stream",
          "name": "stdout",
          "text": [
            "Drive already mounted at /content/drive; to attempt to forcibly remount, call drive.mount(\"/content/drive\", force_remount=True).\n"
          ]
        }
      ]
    },
    {
      "cell_type": "code",
      "metadata": {
        "id": "2MT0OCSXhfw0"
      },
      "source": [
        "import tensorflow as tf\n",
        "import numpy as np\n",
        "import matplotlib.pyplot as plt\n",
        "from tensorflow.keras.models import Sequential, Model\n",
        "from tensorflow.keras.layers import Dense, Conv2D, MaxPooling2D, Flatten, GlobalAveragePooling2D\n",
        "from tensorflow.keras.preprocessing.image import load_img\n",
        "from tensorflow.keras.preprocessing.image import img_to_array\n",
        "from tensorflow.keras.preprocessing.image import ImageDataGenerator"
      ],
      "execution_count": null,
      "outputs": []
    },
    {
      "cell_type": "code",
      "metadata": {
        "id": "n1MR2holKZki"
      },
      "source": [
        "import numpy as np\n",
        "import PIL.Image as Image\n",
        "\n",
        "IMAGE_SHAPE = (224, 224)\n",
        "polyps_image = Image.open('/content/drive/MyDrive/1.codestates/3.project/endoscopy-dataset/polyps/0014d89e-5afa-4186-99f9-4400c8c58a18.jpg').resize(IMAGE_SHAPE)\n",
        "# polyps_image"
      ],
      "execution_count": null,
      "outputs": []
    },
    {
      "cell_type": "code",
      "metadata": {
        "id": "TVUCrGDq0m-4"
      },
      "source": [
        "# Image Generator\n",
        "generator = ImageDataGenerator(validation_split=0.2, rescale=1./255)"
      ],
      "execution_count": null,
      "outputs": []
    },
    {
      "cell_type": "code",
      "metadata": {
        "id": "Qs6cxJHC1GPI"
      },
      "source": [
        "data_dir = '/content/drive/MyDrive/1.codestates/3.project/endoscopy-dataset'\n",
        "batch_size = 32"
      ],
      "execution_count": null,
      "outputs": []
    },
    {
      "cell_type": "code",
      "metadata": {
        "colab": {
          "base_uri": "https://localhost:8080/"
        },
        "id": "zfkVa-Xt2aWB",
        "outputId": "7a679b03-d181-459c-d5a9-7be0fcac4584"
      },
      "source": [
        "train_gen = generator.flow_from_directory(\n",
        "  directory=data_dir,\n",
        "  batch_size=batch_size,\n",
        "  target_size=(128,128),\n",
        "  shuffle=True,\n",
        "  class_mode='categorical',\n",
        "  subset = 'training')"
      ],
      "execution_count": null,
      "outputs": [
        {
          "output_type": "stream",
          "name": "stdout",
          "text": [
            "Found 2400 images belonging to 6 classes.\n"
          ]
        }
      ]
    },
    {
      "cell_type": "code",
      "metadata": {
        "colab": {
          "base_uri": "https://localhost:8080/"
        },
        "id": "ZW68yJnm2wq9",
        "outputId": "335a2380-9f82-4c80-c621-aaa23089c4f0"
      },
      "source": [
        "val_gen = generator.flow_from_directory(\n",
        "  directory=data_dir,\n",
        "  batch_size=batch_size,\n",
        "  target_size=(128,128),\n",
        "  shuffle=False,\n",
        "  class_mode='categorical',\n",
        "  subset = 'validation')"
      ],
      "execution_count": null,
      "outputs": [
        {
          "output_type": "stream",
          "name": "stdout",
          "text": [
            "Found 600 images belonging to 6 classes.\n"
          ]
        }
      ]
    },
    {
      "cell_type": "code",
      "metadata": {
        "id": "1zswUb5s2_dm",
        "colab": {
          "base_uri": "https://localhost:8080/"
        },
        "outputId": "f4c97a55-46ad-45a4-a286-ed0ac06fafcb"
      },
      "source": [
        "# 6개 클래스, 은닉층은 relu, 출력층은 softmax\n",
        "\n",
        "model = Sequential()\n",
        "\n",
        "model.add(Conv2D(32, input_shape=(128,128,3), kernel_size=(3,3), activation='relu'))\n",
        "model.add(MaxPooling2D(pool_size=(2,2)))\n",
        "model.add(Conv2D(128, (3,3), activation='relu'))\n",
        "model.add(MaxPooling2D(pool_size=(2,2)))\n",
        "model.add(Flatten())\n",
        "model.add(Dense(64, activation='relu'))\n",
        "model.add(Dense(6, activation='softmax'))\n",
        "\n",
        "model.summary()"
      ],
      "execution_count": null,
      "outputs": [
        {
          "output_type": "stream",
          "name": "stdout",
          "text": [
            "Model: \"sequential\"\n",
            "_________________________________________________________________\n",
            "Layer (type)                 Output Shape              Param #   \n",
            "=================================================================\n",
            "conv2d (Conv2D)              (None, 126, 126, 32)      896       \n",
            "_________________________________________________________________\n",
            "max_pooling2d (MaxPooling2D) (None, 63, 63, 32)        0         \n",
            "_________________________________________________________________\n",
            "conv2d_1 (Conv2D)            (None, 61, 61, 128)       36992     \n",
            "_________________________________________________________________\n",
            "max_pooling2d_1 (MaxPooling2 (None, 30, 30, 128)       0         \n",
            "_________________________________________________________________\n",
            "flatten (Flatten)            (None, 115200)            0         \n",
            "_________________________________________________________________\n",
            "dense (Dense)                (None, 64)                7372864   \n",
            "_________________________________________________________________\n",
            "dense_1 (Dense)              (None, 6)                 390       \n",
            "=================================================================\n",
            "Total params: 7,411,142\n",
            "Trainable params: 7,411,142\n",
            "Non-trainable params: 0\n",
            "_________________________________________________________________\n"
          ]
        }
      ]
    },
    {
      "cell_type": "code",
      "metadata": {
        "id": "xTfxHKBxRdXF"
      },
      "source": [
        "model.compile(loss='categorical_crossentropy', optimizer='adam', metrics=['accuracy']) "
      ],
      "execution_count": null,
      "outputs": []
    },
    {
      "cell_type": "code",
      "metadata": {
        "id": "x-65djiFI-1-",
        "colab": {
          "base_uri": "https://localhost:8080/"
        },
        "outputId": "acbf2766-914b-43f2-c61f-b7f2becbdae3"
      },
      "source": [
        "model.fit(train_gen, epochs=10, validation_data=val_gen)"
      ],
      "execution_count": null,
      "outputs": [
        {
          "output_type": "stream",
          "name": "stdout",
          "text": [
            "Epoch 1/10\n",
            "75/75 [==============================] - 852s 11s/step - loss: 1.0176 - accuracy: 0.5838 - val_loss: 0.8148 - val_accuracy: 0.6417\n",
            "Epoch 2/10\n",
            "75/75 [==============================] - 132s 2s/step - loss: 0.5904 - accuracy: 0.7529 - val_loss: 0.6577 - val_accuracy: 0.7417\n",
            "Epoch 3/10\n",
            "75/75 [==============================] - 132s 2s/step - loss: 0.4555 - accuracy: 0.8183 - val_loss: 0.6121 - val_accuracy: 0.7600\n",
            "Epoch 4/10\n",
            "75/75 [==============================] - 135s 2s/step - loss: 0.3845 - accuracy: 0.8425 - val_loss: 0.7378 - val_accuracy: 0.7133\n",
            "Epoch 5/10\n",
            "75/75 [==============================] - 132s 2s/step - loss: 0.3413 - accuracy: 0.8671 - val_loss: 0.7308 - val_accuracy: 0.7417\n",
            "Epoch 6/10\n",
            "75/75 [==============================] - 132s 2s/step - loss: 0.2532 - accuracy: 0.9062 - val_loss: 0.9286 - val_accuracy: 0.7117\n",
            "Epoch 7/10\n",
            "75/75 [==============================] - 132s 2s/step - loss: 0.1973 - accuracy: 0.9262 - val_loss: 1.0586 - val_accuracy: 0.6833\n",
            "Epoch 8/10\n",
            "75/75 [==============================] - 136s 2s/step - loss: 0.1554 - accuracy: 0.9433 - val_loss: 0.8282 - val_accuracy: 0.7783\n",
            "Epoch 9/10\n",
            "75/75 [==============================] - 133s 2s/step - loss: 0.1335 - accuracy: 0.9525 - val_loss: 0.9207 - val_accuracy: 0.7483\n",
            "Epoch 10/10\n",
            "75/75 [==============================] - 132s 2s/step - loss: 0.0959 - accuracy: 0.9683 - val_loss: 0.9848 - val_accuracy: 0.7533\n"
          ]
        },
        {
          "output_type": "execute_result",
          "data": {
            "text/plain": [
              "<keras.callbacks.History at 0x7ff03cb638d0>"
            ]
          },
          "metadata": {},
          "execution_count": 13
        }
      ]
    },
    {
      "cell_type": "markdown",
      "metadata": {
        "id": "ZanClzk7CMad"
      },
      "source": [
        "- 10 Epoch 결과 val_accuracy 0.7733으로 나왔으며 3 Epoch 이후부터 과적합이 되는 경향이 있다."
      ]
    },
    {
      "cell_type": "markdown",
      "metadata": {
        "id": "P_UCi5yqnk17"
      },
      "source": [
        "---"
      ]
    },
    {
      "cell_type": "markdown",
      "metadata": {
        "id": "PTT-KDjI31aX"
      },
      "source": [
        "##**2. Object Detection** : Pre-trained model 활용\n",
        "\n",
        "Polyp의 경우 경계가 불분명하게 분리된 클래스이기 때문에 Segmentation이 아닌 Object Detection으로 접근하였다.\n",
        "\n",
        "pre-tained model을 활용한 polyps 인식"
      ]
    },
    {
      "cell_type": "markdown",
      "metadata": {
        "id": "6rLqEeRVsV-w"
      },
      "source": [
        "<img src=\"https://ifh.cc/g/WZqgSj.jpg\" width = 500/>"
      ]
    },
    {
      "cell_type": "code",
      "metadata": {
        "id": "TeS60Xe4354Z"
      },
      "source": [
        "import random\n",
        "import matplotlib.pyplot as plt\n",
        "import skimage.io\n",
        "import numpy as np\n",
        "import os\n",
        "\n",
        "from keras import *\n",
        "from keras.models import *\n",
        "from keras.layers import Input, Dense\n",
        "from keras.preprocessing import image\n",
        "\n",
        "from matplotlib.patches import Rectangle\n",
        "import keras"
      ],
      "execution_count": null,
      "outputs": []
    },
    {
      "cell_type": "code",
      "metadata": {
        "id": "FEbiVvcCNRXp"
      },
      "source": [
        "WINDOW_SIZES = [120]      # using only one size for the sliding window\n",
        "window_sizes=WINDOW_SIZES \n",
        "step=10                   # step of sliding on the input image (how to divide the original image)"
      ],
      "execution_count": null,
      "outputs": []
    },
    {
      "cell_type": "code",
      "metadata": {
        "colab": {
          "base_uri": "https://localhost:8080/",
          "height": 302
        },
        "id": "g4p4LounNReB",
        "outputId": "e6ac27da-9b4f-4d0c-cfec-ea78db3bfeb0"
      },
      "source": [
        "img = skimage.io.imread('/content/drive/MyDrive/1.codestates/3.project/endoscopy-dataset/polyps/0b4f0370-b25b-4e6a-a7ac-b09097bfecc3.jpg')\n",
        "print('Input image size=',img.shape[0],img.shape[1])\n",
        "plt.figure()\n",
        "plt.imshow(img)"
      ],
      "execution_count": null,
      "outputs": [
        {
          "output_type": "stream",
          "name": "stdout",
          "text": [
            "Input image size= 576 720\n"
          ]
        },
        {
          "output_type": "execute_result",
          "data": {
            "text/plain": [
              "<matplotlib.image.AxesImage at 0x7fefede10990>"
            ]
          },
          "metadata": {},
          "execution_count": 16
        },
        {
          "output_type": "display_data",
          "data": {
            "image/png": "[encoded data removed]",
            "text/plain": [
              "<Figure size 432x288 with 1 Axes>"
            ]
          },
          "metadata": {
            "needs_background": "light"
          }
        }
      ]
    },
    {
      "cell_type": "code",
      "metadata": {
        "id": "u87DOq7QNRxQ"
      },
      "source": [
        "from keras.models import load_model\n",
        "\n",
        "#model = load_model('/content/drive/MyDrive/1.codestates/3.project/saved_models/model_best_Conv-Conv-Conv-FC_weigths.h5')\n",
        "#print(model.summary())"
      ],
      "execution_count": null,
      "outputs": []
    },
    {
      "cell_type": "code",
      "metadata": {
        "id": "Fqr8R7nu30rJ"
      },
      "source": [
        "# pre-trained 모델에 문제가 있어 불러오지 못하는 문제가 있다."
      ],
      "execution_count": null,
      "outputs": []
    },
    {
      "cell_type": "markdown",
      "metadata": {
        "id": "SZEATYVXnocN"
      },
      "source": [
        "---"
      ]
    },
    {
      "cell_type": "markdown",
      "metadata": {
        "id": "_CztAU0kTqNl"
      },
      "source": [
        "##**3. Object Detection** : LabelIMG 를 이용하여 레이블링하기"
      ]
    },
    {
      "cell_type": "markdown",
      "metadata": {
        "id": "JryvRJj2U7Az"
      },
      "source": [
        "labelImg 프로그램을 활용하여 폴립에 대하여 Bounding-box 라벨링\n",
        "\n",
        "cmd창에서 *pip install labelImg* (설치) → *labelImg* (실행)"
      ]
    },
    {
      "cell_type": "markdown",
      "metadata": {
        "id": "388JVDO6TwJF"
      },
      "source": [
        "<img src=\"https://ifh.cc/g/8fgQtb.gif\" width = 700/>"
      ]
    },
    {
      "cell_type": "markdown",
      "metadata": {
        "id": "dLEsWaPDhP6i"
      },
      "source": [
        "500장의 Polyp 이미지에 bounding box 처리를 해주었다.\n",
        "\n",
        "PascalVDC로 설정하면 csv 파일이 생성되고, YOLO로 설정할 경우 txt파일이 생성된다.\n",
        "\n",
        "생성된 텍스트 파일은 다음과 같이 Object의 좌표값을 가지고 있다."
      ]
    },
    {
      "cell_type": "markdown",
      "metadata": {
        "id": "3P_U_LfdwEsu"
      },
      "source": [
        "<img src=\"https://ifh.cc/g/n5nNTa.png\" width = 400/>"
      ]
    },
    {
      "cell_type": "markdown",
      "metadata": {
        "id": "knna3FgunsQq"
      },
      "source": [
        "---"
      ]
    },
    {
      "cell_type": "markdown",
      "metadata": {
        "id": "Cs8JIcxjBEcU"
      },
      "source": [
        "##**4. Object Detection** : YOLOv5 적용\n",
        "\n",
        "참고 : https://www.youtube.com/watch?v=T0DO1C8uYP8&ab_channel=%EB%B9%B5%ED%98%95%EC%9D%98%EA%B0%9C%EB%B0%9C%EB%8F%84%EC%83%81%EA%B5%AD"
      ]
    },
    {
      "cell_type": "code",
      "metadata": {
        "colab": {
          "base_uri": "https://localhost:8080/"
        },
        "id": "tV4k6XAXWbgX",
        "outputId": "f14c61e7-c76f-448e-f211-1eff9a3cc860"
      },
      "source": [
        "%cd /content\n",
        "!git clone https://github.com/ultralytics/yolov5.git                                                                                                          "
      ],
      "execution_count": null,
      "outputs": [
        {
          "output_type": "stream",
          "name": "stdout",
          "text": [
            "/content\n",
            "Cloning into 'yolov5'...\n",
            "remote: Enumerating objects: 9185, done.\u001b[K\n",
            "remote: Total 9185 (delta 0), reused 0 (delta 0), pack-reused 9185\u001b[K\n",
            "Receiving objects: 100% (9185/9185), 9.64 MiB | 24.36 MiB/s, done.\n",
            "Resolving deltas: 100% (6373/6373), done.\n"
          ]
        }
      ]
    },
    {
      "cell_type": "code",
      "metadata": {
        "id": "cGyA97nYBNEv"
      },
      "source": [
        "%cd /content/yolov5/\n",
        "!pip install -r requirements.txt                                                                                                                                      "
      ],
      "execution_count": null,
      "outputs": []
    },
    {
      "cell_type": "code",
      "metadata": {
        "colab": {
          "base_uri": "https://localhost:8080/"
        },
        "id": "7lMHritsBNHy",
        "outputId": "60915f28-c1c6-4df9-ac37-45cd5f6b1a79"
      },
      "source": [
        "%cat /content/drive/MyDrive/1.codestates/3.project/data.yaml                                                                                                "
      ],
      "execution_count": null,
      "outputs": [
        {
          "output_type": "stream",
          "name": "stdout",
          "text": [
            "names:\n",
            "- Polyp\n",
            "nc: 1\n",
            "train: /content/drive/MyDrive/1.codestates/3.project/train.txt\n",
            "val: /content/drive/MyDrive/1.codestates/3.project/val.txt\n"
          ]
        }
      ]
    },
    {
      "cell_type": "code",
      "metadata": {
        "colab": {
          "base_uri": "https://localhost:8080/"
        },
        "id": "bjRQwz21BNK_",
        "outputId": "cc29767b-ac7a-4a0d-894c-c21549f37451"
      },
      "source": [
        "%cd /\n",
        "from glob import glob\n",
        "\n",
        "img_list = glob('/content/drive/MyDrive/1.codestates/3.project/export/images/*.jpg')\n",
        "\n",
        "print(len(img_list))"
      ],
      "execution_count": null,
      "outputs": [
        {
          "output_type": "stream",
          "name": "stdout",
          "text": [
            "/\n",
            "500\n"
          ]
        }
      ]
    },
    {
      "cell_type": "code",
      "metadata": {
        "colab": {
          "base_uri": "https://localhost:8080/"
        },
        "id": "k1XKoaXQNQvE",
        "outputId": "3f86f7e5-b5ae-4f57-c969-870a2c5bd342"
      },
      "source": [
        "from sklearn.model_selection import train_test_split\n",
        "\n",
        "train_img_list, val_img_list = train_test_split(img_list, test_size=0.2, random_state=2000)\n",
        "\n",
        "print(len(train_img_list), len(val_img_list))"
      ],
      "execution_count": null,
      "outputs": [
        {
          "output_type": "stream",
          "name": "stdout",
          "text": [
            "400 100\n"
          ]
        }
      ]
    },
    {
      "cell_type": "code",
      "metadata": {
        "id": "_Gd8WHH9BNOA"
      },
      "source": [
        "with open('/content/drive/MyDrive/1.codestates/3.project/train.txt', 'w') as f:\n",
        "  f.write('\\n'.join(train_img_list) + '\\n')\n",
        "\n",
        "with open('/content/drive/MyDrive/1.codestates/3.project/val.txt', 'w') as f:\n",
        "  f.write('\\n'.join(val_img_list) + '\\n')"
      ],
      "execution_count": null,
      "outputs": []
    },
    {
      "cell_type": "code",
      "metadata": {
        "colab": {
          "base_uri": "https://localhost:8080/"
        },
        "id": "kjS_QFk3Nm7Z",
        "outputId": "6eb46393-9cef-44fd-e387-80a4215d0382"
      },
      "source": [
        "import yaml\n",
        "\n",
        "with open('/content/drive/MyDrive/1.codestates/3.project/data.yaml', 'r') as f:\n",
        "  data = yaml.load(f)\n",
        "\n",
        "print(data)\n",
        "\n",
        "data['train'] = '/content/drive/MyDrive/1.codestates/3.project/train.txt'\n",
        "data['val'] = '/content/drive/MyDrive/1.codestates/3.project/val.txt'\n",
        "\n",
        "with open('/content/drive/MyDrive/1.codestates/3.project/data.yaml', 'w') as f:\n",
        "  yaml.dump(data, f)\n",
        "\n",
        "print(data)"
      ],
      "execution_count": null,
      "outputs": [
        {
          "output_type": "stream",
          "name": "stdout",
          "text": [
            "{'names': ['Polyp'], 'nc': 1, 'train': '/content/drive/MyDrive/1.codestates/3.project/train.txt', 'val': '/content/drive/MyDrive/1.codestates/3.project/val.txt'}\n",
            "{'names': ['Polyp'], 'nc': 1, 'train': '/content/drive/MyDrive/1.codestates/3.project/train.txt', 'val': '/content/drive/MyDrive/1.codestates/3.project/val.txt'}\n"
          ]
        },
        {
          "output_type": "stream",
          "name": "stderr",
          "text": [
            "/usr/local/lib/python3.7/dist-packages/ipykernel_launcher.py:4: YAMLLoadWarning: calling yaml.load() without Loader=... is deprecated, as the default Loader is unsafe. Please read https://msg.pyyaml.org/load for full details.\n",
            "  after removing the cwd from sys.path.\n"
          ]
        }
      ]
    },
    {
      "cell_type": "code",
      "metadata": {
        "id": "THrp3C2GNm_1"
      },
      "source": [
        "%cd /content/yolov5/\n",
        "\n",
        "!python train.py --img 256 --batch 32 --epochs 30 --data /content/drive/MyDrive/1.codestates/3.project/data.yaml\n",
        "--cfg ./models/yolov5s.yaml --weights yolov5s.pt --name polyp_yolov5s_results                                                       "
      ],
      "execution_count": null,
      "outputs": []
    },
    {
      "cell_type": "code",
      "metadata": {
        "id": "LbA87HxmNnE-"
      },
      "source": [
        "%load_ext tensorboard\n",
        "%tensorboard --logdir /content/yolov5/runs/"
      ],
      "execution_count": null,
      "outputs": []
    },
    {
      "cell_type": "code",
      "metadata": {
        "id": "ctIFcaiDcnud"
      },
      "source": [
        "# 테스트 이미지 Object Detection 확인\n",
        "\n",
        "from IPython.display import Image\n",
        "import os\n",
        "\n",
        "val_img_path = val_img_list[7]\n",
        "!python detect.py --weights /content/yolov5/runs/train/polyp_yolov5s_results/weights/best.pt --img 256 --conf 0.4 --source \"{val_img_path}\"\n",
        "\n",
        "Image(os.path.join('/content/yolov5/runs/detect/exp', os.path.basename(val_img_path)), width = 300, height = 240)"
      ],
      "execution_count": null,
      "outputs": []
    },
    {
      "cell_type": "code",
      "metadata": {
        "id": "sqLWFudWpe1n"
      },
      "source": [
        "# 새로운 이미지 테스트\n",
        "\n",
        "val_img_path = '/content/drive/MyDrive/1.codestates/3.project/6polyps.jpg'\n",
        "!python detect.py --weights /content/yolov5/runs/train/polyp_yolov5s_results/weights/best.pt --img 256 --conf 0.4 --source \"{val_img_path}\"\n",
        "\n",
        "Image(os.path.join('/content/yolov5/runs/detect/exp2', os.path.basename(val_img_path)), width = 460, height = 340)"
      ],
      "execution_count": null,
      "outputs": []
    },
    {
      "cell_type": "code",
      "metadata": {
        "id": "nEVsSs-7rhad"
      },
      "source": [
        "# Grey Image Detection 테스트\n",
        "\n",
        "val_img_path = '/content/drive/MyDrive/1.codestates/3.project/greyimage.jpg'\n",
        "!python detect.py --weights /content/yolov5/runs/train/polyp_yolov5s_results/weights/best.pt --img 256 --conf 0.4 --source \"{val_img_path}\"\n",
        "\n",
        "Image(os.path.join('/content/yolov5/runs/detect/exp3', os.path.basename(val_img_path)), width = 460, height = 340)"
      ],
      "execution_count": null,
      "outputs": []
    },
    {
      "cell_type": "markdown",
      "metadata": {
        "id": "lePUgFZOwqzM"
      },
      "source": [
        "흑백 사진으로 변경하여 테스트 한 결과 Detection 성능이 다소 하락한 것을 확인할 수 있다."
      ]
    },
    {
      "cell_type": "code",
      "metadata": {
        "id": "gXoLNTaTMXY5"
      },
      "source": [
        "# 동영상에서 Object Detection 하기\n",
        "\n",
        "!python detect.py --source /content/drive/MyDrive/1.codestates/3.project/polyp-MP4.mp4 --weights /content/yolov5/runs/train/polyp_yolov5s_results/weights/best.pt"
      ],
      "execution_count": null,
      "outputs": []
    },
    {
      "cell_type": "markdown",
      "metadata": {
        "id": "DL2-ZqLeqTND"
      },
      "source": [
        "<img src=\"https://ifh.cc/g/SpdDwg.gif\" width = 400/>"
      ]
    },
    {
      "cell_type": "markdown",
      "metadata": {
        "id": "p3t0BkwdrwmS"
      },
      "source": [
        "---"
      ]
    },
    {
      "cell_type": "markdown",
      "metadata": {
        "id": "moZb_8fQ31M6"
      },
      "source": [
        "참고 자료\n",
        "\n",
        "https://www.balasingham.net/Content/files/pdf/publication-6Xt3pSxk15SMhAMsNHAbMdZcMgYpu7DnwjOT0ryi.pdf\n",
        "\n",
        "https://github.com/ultralytics/yolov5\n",
        "\n",
        "https://bit.ly/3t79Bs1\n"
      ]
    }
  ]
}